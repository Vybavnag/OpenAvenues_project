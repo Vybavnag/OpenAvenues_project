{
 "cells": [
  {
   "cell_type": "code",
   "execution_count": 1,
   "metadata": {},
   "outputs": [
    {
     "name": "stdout",
     "output_type": "stream",
     "text": [
      "[#0] Max: 1, Min: 1, Average: 1, Count: 1, Varinace0\n",
      "[#1] Max: 2, Min: 1, Average: 1.5, Count: 2, Varinace0.25\n",
      "[#2] Max: 5, Min: 1, Average: 2.6666666666666665, Count: 3, Varinace2.8888888888888893\n",
      "[#3] Max: 5, Min: 1, Average: 3.0, Count: 4, Varinace2.5\n",
      "[#4] Max: 5, Min: 1, Average: 3.0, Count: 5, Varinace2.0\n",
      "[#5] Suspiciously small value found in index 5: -100.0\n",
      "[#6] No proper definition for 'transactionTotal' found in index 6\n",
      "[#7] No proper definition for 'transactionTotal' found in index 7\n",
      "[#8] Suspiciously large value found in index 8: 100000000.0\n",
      "\n",
      "[#Final] Max: 5, Min: 1, Average: 3.0, Count: 5,  Varinace2.0\n"
     ]
    }
   ],
   "source": [
    "#Online Python compiler (interpreter) to run Python online.\n",
    "# Write Python 3 code in this online editor and run it.\n",
    "import pandas as pd\n",
    "import numbers\n",
    "\n",
    "# Create a sample dataframe\n",
    "df = pd.DataFrame({\n",
    "    'transactionTotal': [1, 2, 5, 4, 3, -100.0, \"hello\", None, 1e8]\n",
    "})\n",
    "\n",
    "#Plausibility values for validation\n",
    "MIN_PLAUSIBLE_VALUE = 0.0\n",
    "MAX_PLAUSIBLE_VALUE = 1e5\n",
    "\n",
    "# Initialize variables to store max, min, sum and count\n",
    "max_total = float('-inf')\n",
    "min_total = float('inf')\n",
    "total_sum = 0.0\n",
    "count = 0\n",
    "current_avg = 0\n",
    "var=0\n",
    "sumsq=0\n",
    "\n",
    "\n",
    "# Iterate over the rows of the dataframe\n",
    "for index, row in df.iterrows():\n",
    "    # Access the transactionTotal value from the row\n",
    "    transaction_total = row['transactionTotal']\n",
    "    \n",
    "    if not transaction_total or not isinstance(transaction_total, numbers.Number):\n",
    "         print(f\"[#{index}] No proper definition for 'transactionTotal' found in index {index}\")\n",
    "         continue\n",
    "    elif transaction_total < MIN_PLAUSIBLE_VALUE:\n",
    "         print(f\"[#{index}] Suspiciously small value found in index {index}: {transaction_total}\")\n",
    "         continue\n",
    "    \n",
    "    elif transaction_total > MAX_PLAUSIBLE_VALUE:\n",
    "         print(f\"[#{index}] Suspiciously large value found in index {index}: {transaction_total}\")\n",
    "         continue\n",
    "\n",
    "    \n",
    "    # Update max and min\n",
    "    max_total = max(max_total, transaction_total)\n",
    "    min_total = min(min_total, transaction_total)\n",
    "    \n",
    "    # Update sum and count\n",
    "    total_sum += transaction_total\n",
    "    count += 1\n",
    "    sumsq +=(transaction_total*transaction_total)\n",
    "\n",
    "    if count == 1:\n",
    "          current_avg = transaction_total\n",
    "\n",
    "    # Calculate the average\n",
    "    else:\n",
    "        current_avg = ((count-1) * current_avg + transaction_total) / count\n",
    "        var= (sumsq/count) -(current_avg*current_avg)\n",
    "    \n",
    "    # Print the results for each row\n",
    "    print(f\"[#{index}] Max: {max_total}, Min: {min_total}, Average: {current_avg}, Count: {count}, Varinace{var}\")\n",
    "\n",
    "# Print the results for each row\n",
    "print(f\"\\n[#Final] Max: {max_total}, Min: {min_total}, Average: {current_avg}, Count: {count},  Varinace{var}\")"
   ]
  },
  {
   "cell_type": "code",
   "execution_count": null,
   "metadata": {},
   "outputs": [],
   "source": []
  }
 ],
 "metadata": {
  "kernelspec": {
   "display_name": "Python 3",
   "language": "python",
   "name": "python3"
  },
  "language_info": {
   "codemirror_mode": {
    "name": "ipython",
    "version": 3
   },
   "file_extension": ".py",
   "mimetype": "text/x-python",
   "name": "python",
   "nbconvert_exporter": "python",
   "pygments_lexer": "ipython3",
   "version": "3.10.8"
  },
  "orig_nbformat": 4
 },
 "nbformat": 4,
 "nbformat_minor": 2
}
